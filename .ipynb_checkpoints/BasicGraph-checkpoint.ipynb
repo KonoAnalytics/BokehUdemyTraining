{
 "cells": [
  {
   "cell_type": "code",
   "execution_count": 1,
   "metadata": {
    "collapsed": true
   },
   "outputs": [],
   "source": [
    "from bokeh.plotting import figure\n",
    "from bokeh.io import output_file, show\n",
    "import pandas as pd\n",
    "\n",
    "\n",
    "x1 = [1,2,3,4,5]\n",
    "y1 = [6,7,8,9,10]\n",
    "\n",
    "# prepare the output file\n",
    "output_file(\"line1.html\")\n",
    "\n",
    "# create a figure object\n",
    "f1 = figure()\n",
    "\n",
    "# create line plot\n",
    "f1.line(x1,y1)\n",
    "\n",
    "show(f1)"
   ]
  },
  {
   "cell_type": "code",
   "execution_count": 2,
   "metadata": {
    "collapsed": true
   },
   "outputs": [],
   "source": [
    "x2 = [3,7.5,10]\n",
    "y2 = [3,6,9]\n",
    "\n",
    "output_file(\"line2.html\")\n",
    "f2 = figure()\n",
    "f2.triangle(x2,y2)\n",
    "show(f2)\n"
   ]
  },
  {
   "cell_type": "code",
   "execution_count": 3,
   "metadata": {
    "collapsed": true
   },
   "outputs": [],
   "source": [
    "x3 = [3,7.5,10]\n",
    "y3 = [3,6,9]\n",
    "\n",
    "output_file(\"line3.html\")\n",
    "f3 = figure()\n",
    "f3.circle(x3,y3)\n",
    "show(f3)"
   ]
  },
  {
   "cell_type": "code",
   "execution_count": 4,
   "metadata": {
    "collapsed": true
   },
   "outputs": [],
   "source": [
    "df4 = pd.read_csv(\"data.csv\")\n",
    "x4 = df4[\"x\"]\n",
    "y4 = df4[\"y\"]\n",
    "\n",
    "# prepare the output file\n",
    "output_file(\"line4.html\")\n",
    "\n",
    "# create a figure object\n",
    "f4 = figure()\n",
    "\n",
    "# create line plot\n",
    "f4.line(x4,y4)\n",
    "\n",
    "show(f4)"
   ]
  },
  {
   "cell_type": "code",
   "execution_count": 5,
   "metadata": {
    "collapsed": true
   },
   "outputs": [],
   "source": [
    "df5 = pd.read_csv(\"http://pythonhow.com/data/bachelors.csv\")\n",
    "x5 = df5[\"Year\"]\n",
    "y5 = df5[\"Engineering\"]\n",
    "output_file(\"line5.html\")\n",
    "f5 = figure()\n",
    "f5.line(x5,y5)\n",
    "show(f5)"
   ]
  },
  {
   "cell_type": "markdown",
   "metadata": {},
   "source": [
    "# Other Interfaces -- Models and Charts"
   ]
  },
  {
   "cell_type": "code",
   "execution_count": 6,
   "metadata": {
    "collapsed": true
   },
   "outputs": [],
   "source": [
    "# Models interface -- Low Level\n",
    "\n",
    "from bokeh.models.glyphs import Circle\n",
    "from bokeh.models import Plot, ColumnDataSource, Range1d, Grid\n",
    "from bokeh.io import output_file, show\n",
    "\n",
    "x6 = [1,2,3,4,5]\n",
    "y6 = [6,7,8,9,10]\n",
    "data6 = ColumnDataSource(dict(x=x6,y=y6))\n",
    "\n",
    "output_file(\"Line_from_model_interface.html\")\n",
    "p6 = Plot(x_range = Range1d(start=0, end=15), y_range=Range1d(start=0,end=15))\n",
    "circle = Circle(x=\"x\",y=\"y\")\n",
    "p6.add_glyph(data6,circle)\n",
    "show(p6)"
   ]
  },
  {
   "cell_type": "code",
   "execution_count": 7,
   "metadata": {},
   "outputs": [
    {
     "name": "stderr",
     "output_type": "stream",
     "text": [
      "C:\\Python\\Anaconda3\\envs\\Kono36\\lib\\site-packages\\bokeh\\util\\deprecation.py:34: BokehDeprecationWarning: \n",
      "The bokeh.charts API has moved to a separate 'bkcharts' package.\n",
      "\n",
      "This compatibility shim will remain until Bokeh 1.0 is released.\n",
      "After that, if you want to use this API you will have to install\n",
      "the bkcharts package explicitly.\n",
      "\n",
      "  warn(message)\n"
     ]
    }
   ],
   "source": [
    "# Charts Interface -- High  Level (deprecated?)\n",
    "\n",
    "from bokeh.charts import Scatter\n",
    "from bokeh.io import output_file, show\n",
    "df7 = pd.read_csv(\"data.csv\")\n",
    "p7 = Scatter(df7, \"x\",\"y\")\n",
    "output_file(\"Line_from_charts_interface.html\")\n",
    "show(p7)\n"
   ]
  },
  {
   "cell_type": "markdown",
   "metadata": {},
   "source": [
    "# Iris Dataset"
   ]
  },
  {
   "cell_type": "code",
   "execution_count": 2,
   "metadata": {
    "collapsed": true
   },
   "outputs": [],
   "source": [
    "# http://bokeh.pydata.org\n",
    "\n",
    "from bokeh.plotting import figure\n",
    "from bokeh.io import output_file, show\n",
    "from bokeh.sampledata.iris import flowers\n",
    "from bokeh.models import Range1d, HoverTool, ColumnDataSource\n",
    "from screeninfo import get_monitors\n",
    "\n",
    "\n",
    "colormap={'setosa':'red', 'versicolor':'green', 'virginica':'blue'}\n",
    "flowers['color'] = [colormap[x] for x in flowers['species']]\n",
    "flowers['graph_sepal_width'] = flowers['sepal_width']*5\n",
    "flowers1 = ColumnDataSource(flowers[flowers[\"species\"] == \"setosa\"])\n",
    "flowers2 = ColumnDataSource(flowers[flowers[\"species\"] == \"versicolor\"])\n",
    "flowers3 = ColumnDataSource(flowers[flowers[\"species\"] == \"virginica\"])\n",
    "\n",
    "\n",
    "output_file(\"iris.html\")\n",
    "\n",
    "tools = \"pan,wheel_zoom,box_zoom,reset\"\n",
    "\n",
    "\n",
    "f8 = figure(tools = tools, logo = None)\n",
    "\n",
    "#style tools\n",
    "f8.toolbar_location=\"above\"\n",
    "hover = HoverTool(tooltips=[(\"Species\",\"@species\"),(\"Sepal Width\",\"@sepal_width\")]) # custom hover tool\n",
    "hover = HoverTool(tooltips = \"\"\"\n",
    "    <div>\n",
    "        <div>\n",
    "            <span style=\"font-size: 13px; color: #966;\">$index</span>\n",
    "            <span style=\"font-size: 15px; font-weight: bold;\">@species</span>\n",
    "        </div>\n",
    "        <div>\n",
    "            <span style=\"font-size: 13px; color: #696;\">Petal length: @petal_length</span><br>\n",
    "            <span style=\"font-size: 15px; color: #696;\">Petal width: @petal_width</span>\n",
    "        </div>        \n",
    "\"\"\") # custom HTML for hover\n",
    "\n",
    "f8.add_tools(hover)\n",
    "\n",
    "# style the plot area\n",
    "f8.plot_width = get_monitors()[0].width # responsive -- get windows size\n",
    "f8.plot_height = get_monitors()[0].height - 50\n",
    "#f8.plot_width = 1100 #px\n",
    "#f8.plot_height = 650\n",
    "f8.background_fill_color = \"olive\" #also works with hex and rgb or rgba\n",
    "f8.background_fill_alpha = 0.3 #transparency\n",
    "f8.border_fill_color = (255,248,220,.5)\n",
    "f8.sizing_mode = \"stretch_both\" # graph will resize when user reizes browswer\n",
    "\n",
    "\n",
    "# style the title\n",
    "f8.title.text = \"Iris Morphology\"\n",
    "f8.title.text_color = \"olive\"\n",
    "f8.title.text_font = \"times\"\n",
    "f8.title.text_font_size = \"25px\"\n",
    "f8.title.align = \"center\"\n",
    "\n",
    "# style the axis\n",
    "f8.axis.minor_tick_line_color = \"red\" #for both axes\n",
    "# f8.xaxis.minor_tick_line_color = \"blue\" # to apply to only one axis\n",
    "f8.yaxis.major_label_orientation = \"vertical\"\n",
    "#f8.xaxis.visible = False # to hide axis\n",
    "#f8.xaxis.minor_tick_line_color = None #for no minor ticks\n",
    "f8.xaxis.minor_tick_in = 5 #length of minor tick in px\n",
    "f8.xaxis.minor_tick_out = 0\n",
    "f8.xaxis.axis_label = \"Petal Length\"\n",
    "f8.yaxis.axis_label = \"Petal Width\"\n",
    "f8.axis.axis_label_text_color = \"orange\"\n",
    "f8.axis.major_label_text_color = \"purple\"\n",
    "\n",
    "# style the grid\n",
    "f8.xgrid.grid_line_color = \"gray\"\n",
    "f8.ygrid.grid_line_color = None # remove grid line for y\n",
    "f8.grid.grid_line_dash=[5,3] # dashed grid line\n",
    "\n",
    "# axes geometry\n",
    "f8.x_range = Range1d(start=0, end=1.1*flowers[\"petal_length\"].max())\n",
    "f8.y_range = Range1d(start=0, end=1.1*flowers[\"petal_width\"].max())\n",
    "#f8.xaxis.bounds = (2,5) # only shows the axis for this range even when panned out\n",
    "\n",
    "\n",
    "# adding glyphs\n",
    "f8.circle(x=\"petal_length\",\n",
    "          y=\"petal_width\",\n",
    "          size='graph_sepal_width',\n",
    "          fill_alpha=0.2,\n",
    "          color='color',\n",
    "          line_dash=[5,3],\n",
    "          legend=\"setosa\",\n",
    "          source=flowers1)\n",
    "f8.circle(x=\"petal_length\",\n",
    "          y=\"petal_width\",\n",
    "          size='graph_sepal_width',\n",
    "          fill_alpha=0.2,\n",
    "          color='color',\n",
    "          line_dash=[5,3],\n",
    "          legend=\"versicolor\",\n",
    "          source=flowers2)\n",
    "f8.circle(x=\"petal_length\",\n",
    "          y=\"petal_width\",\n",
    "          size='graph_sepal_width',\n",
    "          fill_alpha=0.2,\n",
    "          color='color',\n",
    "          line_dash=[5,3],\n",
    "          legend=\"virginica\",\n",
    "          source=flowers3)\n",
    "\n",
    "\n",
    "# style legend\n",
    "f8.legend.location = 'top_left' # can also be (75,150) for pixel from left and bottom\n",
    "f8.legend.background_fill_alpha = .75\n",
    "f8.legend.background_fill_color = 'silver'\n",
    "f8.legend.border_line_color = 'green'\n",
    "f8.legend.label_text_font = 'times'\n",
    "f8.legend.label_text_color = 'white'\n",
    "# also margin and padding properties\n",
    "\n",
    "show(f8)"
   ]
  },
  {
   "cell_type": "markdown",
   "metadata": {},
   "source": [
    "# Categorical Axes"
   ]
  },
  {
   "cell_type": "code",
   "execution_count": 9,
   "metadata": {
    "collapsed": true
   },
   "outputs": [],
   "source": [
    "output_file(\"students.html\")\n",
    "f9 = figure(x_range=[\"F\",\"D-\",\"D\",\"D+\",\"C-\",\"C\",\"C+\",\"B-\",\"B\",\"B+\",\"A-\",\"A\",\"A+\"],\n",
    "            y_range=[\"F\",\"D-\",\"D\",\"D+\",\"C-\",\"C\",\"C+\",\"B-\",\"B\",\"B+\",\"A-\",\"A\",\"A+\"])\n",
    "f9.circle(x=[\"A\",\"B\"], y=[\"C\",\"D\"], size=8)\n",
    "show(f9)"
   ]
  }
 ],
 "metadata": {
  "kernelspec": {
   "display_name": "Python 3",
   "language": "python",
   "name": "python3"
  },
  "language_info": {
   "codemirror_mode": {
    "name": "ipython",
    "version": 3
   },
   "file_extension": ".py",
   "mimetype": "text/x-python",
   "name": "python",
   "nbconvert_exporter": "python",
   "pygments_lexer": "ipython3",
   "version": "3.6.1"
  }
 },
 "nbformat": 4,
 "nbformat_minor": 1
}
